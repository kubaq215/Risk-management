{
 "cells": [
  {
   "cell_type": "markdown",
   "metadata": {},
   "source": [
    "![zad1.png](images/note3/zad1.png)"
   ]
  },
  {
   "cell_type": "code",
   "metadata": {
    "ExecuteTime": {
     "end_time": "2025-05-06T23:03:55.171125Z",
     "start_time": "2025-05-06T23:03:55.161619Z"
    }
   },
   "source": [
    "# Zadanie w pdfie (images/note3/solutions)"
   ],
   "outputs": [],
   "execution_count": 1
  },
  {
   "metadata": {},
   "cell_type": "markdown",
   "source": "![zad3.png](images/note3/zad3.png)"
  },
  {
   "metadata": {
    "ExecuteTime": {
     "end_time": "2025-05-06T23:27:23.226106Z",
     "start_time": "2025-05-06T23:27:23.192719Z"
    }
   },
   "cell_type": "code",
   "source": [
    "import numpy as np\n",
    "from scipy import stats\n",
    "\n",
    "def read_data(filename):\n",
    "    with open(filename, 'r') as f:\n",
    "        # wczytujemy sobie dane jako tablicę liczb zmiennoprzecinkowych\n",
    "        return np.array([float(line.strip()) for line in f])\n",
    "\n",
    "def corrected_ks_statistic(u, N):\n",
    "    # stosujemy korekty dla statystyki testowej KS zgodnie z podanym wzorem:\n",
    "    # u -> u + ( 1 / (6 * sqrt(N))) + ((u-1) / (4*N)) gdzie:\n",
    "    # - u: statystyka testowa KS\n",
    "    # - N: liczba próbek\n",
    "    return u + 1/(6*np.sqrt(N)) + (u-1)/(4*N)\n",
    "\n",
    "# wczytujemy dane\n",
    "data_a = read_data('data/dat2a.txt')\n",
    "data_b = read_data('data/dat2b.txt')\n",
    "\n",
    "# podpunkt a) sprawdzamy czy dane z dat2a.txt pochodzą z rozkładu normalnego N(5, 2)\n",
    "ks_stat_a, _ = stats.kstest(data_a, 'norm', args=(5, 2))\n",
    "N_a = len(data_a)\n",
    "corrected_stat_a = corrected_ks_statistic(ks_stat_a, N_a)\n",
    "p_value_a = stats.kstwobign.sf(corrected_stat_a * np.sqrt(N_a))\n",
    "\n",
    "# podpunkt b) sprawdzamy czy dane z dat2b.txt pochodzą z rozkładu normalnego N(5, 2)\n",
    "ks_stat_b, _ = stats.kstest(data_b, 'norm', args=(5, 2))\n",
    "N_b = len(data_b)\n",
    "corrected_stat_b = corrected_ks_statistic(ks_stat_b, N_b)\n",
    "p_value_b = stats.kstwobign.sf(corrected_stat_b * np.sqrt(N_b))\n",
    "\n",
    "\n",
    "# podkpunkt c) sprawdzamy czy dane z dat2a.txt i dat2b.txt pochodzą z tego samego rozkładu\n",
    "ks_stat_ab, _ = stats.ks_2samp(data_a, data_b)\n",
    "N_ab = min(len(data_a), len(data_b))\n",
    "corrected_stat_ab = corrected_ks_statistic(ks_stat_ab, N_ab)\n",
    "p_value_ab = stats.kstwobign.sf(corrected_stat_ab * np.sqrt(N_ab/2))\n",
    "\n",
    "\n",
    "# poziom istotności 5%\n",
    "alpha = 0.05\n",
    "\n",
    "print(\"\\nKolmogorov-Smirnov test results (α = 0.05):\")\n",
    "\n",
    "print(\"\\na) Testing if dat2a.txt come from N(5,2):\")\n",
    "print(f\"D_N = {ks_stat_a:.6f}\")\n",
    "print(f\"Corrected D_N = {corrected_stat_a:.6f}\")\n",
    "print(f\"p-value = {p_value_a:.6f}\")\n",
    "print(f\"Conclusion: {'no' if p_value_a < alpha else 'probably yes'}\")\n",
    "\n",
    "print(\"\\nb) Testing if dat2b.txt come from N(5,2):\")\n",
    "print(f\"D_N = {ks_stat_b:.6f}\")\n",
    "print(f\"Corrected D_N = {corrected_stat_b:.6f}\")\n",
    "print(f\"p-value = {p_value_b:.6f}\")\n",
    "print(f\"Conclusion: {'no' if p_value_b < alpha else 'probably yes'}\")\n",
    "\n",
    "print(\"\\nc) Testing if dat2a.txt and dat2b.txt come from the same distribution:\")\n",
    "print(f\"D_N = {ks_stat_ab:.6f}\")\n",
    "print(f\"Corrected D_N = {corrected_stat_ab:.6f}\")\n",
    "print(f\"p-value = {p_value_ab:.6f}\")\n",
    "print(f\"Conclusion: {'no' if p_value_ab < alpha else 'probably yes'}\")\n",
    "# probably yes oznacza, że nie ma wystarczających dowodów,\n",
    "# aby odrzucić hipotezę zerową (dla a i b hipoteza zerowa to hipoteza, że dane\n",
    "# pochodzą z rozkładu N(5,2), a dla c hipoteza to, że dane pochodzą z tego samego\n",
    "# rozkładu)\n",
    "# no oznacza, że mamy wystarczające dowody, aby odrzucić hipotezę zerową\n",
    "# jeśli p-value < 0.05 to odrzucamy hipoteze\n",
    "# jeśli p-value ≥ 0.05 to nie odrzucamy hipotezy"
   ],
   "outputs": [
    {
     "name": "stdout",
     "output_type": "stream",
     "text": [
      "\n",
      "Kolmogorov-Smirnov test results (α = 0.05):\n",
      "\n",
      "a) Testing if dat2a.txt come from N(5,2):\n",
      "D_N = 0.029311\n",
      "Corrected D_N = 0.039883\n",
      "p-value = 0.908036\n",
      "Conclusion: probably yes\n",
      "\n",
      "b) Testing if dat2b.txt come from N(5,2):\n",
      "D_N = 0.105858\n",
      "Corrected D_N = 0.116525\n",
      "p-value = 0.008755\n",
      "Conclusion: no\n",
      "\n",
      "c) Testing if dat2a.txt and dat2b.txt come from the same distribution:\n",
      "D_N = 0.115000\n",
      "Corrected D_N = 0.125679\n",
      "p-value = 0.084927\n",
      "Conclusion: probably yes\n"
     ]
    }
   ],
   "execution_count": 7
  },
  {
   "metadata": {},
   "cell_type": "code",
   "outputs": [],
   "execution_count": null,
   "source": ""
  }
 ],
 "metadata": {
  "kernelspec": {
   "display_name": "Python 3",
   "language": "python",
   "name": "python3"
  },
  "language_info": {
   "codemirror_mode": {
    "name": "ipython",
    "version": 3
   },
   "file_extension": ".py",
   "mimetype": "text/x-python",
   "name": "python",
   "nbconvert_exporter": "python",
   "pygments_lexer": "ipython3",
   "version": "3.9.6"
  }
 },
 "nbformat": 4,
 "nbformat_minor": 2
}
