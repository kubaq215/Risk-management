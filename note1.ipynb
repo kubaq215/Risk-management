{
 "cells": [
  {
   "cell_type": "markdown",
   "metadata": {},
   "source": [
    "![zad1.png](images/note1/zad1.png)"
   ]
  },
  {
   "cell_type": "code",
   "execution_count": null,
   "metadata": {},
   "outputs": [],
   "source": []
  },
  {
   "cell_type": "markdown",
   "metadata": {},
   "source": [
    "![zad2.png](images/note1/zad2.png)"
   ]
  },
  {
   "cell_type": "code",
   "execution_count": null,
   "metadata": {},
   "outputs": [],
   "source": []
  },
  {
   "cell_type": "markdown",
   "metadata": {},
   "source": [
    "![zad3.png](images/note1/zad3.png)"
   ]
  },
  {
   "cell_type": "code",
   "execution_count": null,
   "metadata": {},
   "outputs": [],
   "source": []
  },
  {
   "cell_type": "markdown",
   "metadata": {},
   "source": [
    "![zad4.png](images/note1/zad4.png)"
   ]
  },
  {
   "cell_type": "code",
   "execution_count": 3,
   "metadata": {},
   "outputs": [
    {
     "name": "stdout",
     "output_type": "stream",
     "text": [
      "Defaulting to user installation because normal site-packages is not writeable\n",
      "Collecting numpy\n",
      "  Downloading numpy-2.2.3-cp312-cp312-manylinux_2_17_x86_64.manylinux2014_x86_64.whl.metadata (62 kB)\n",
      "Collecting scipy\n",
      "  Downloading scipy-1.15.2-cp312-cp312-manylinux_2_17_x86_64.manylinux2014_x86_64.whl.metadata (61 kB)\n",
      "Downloading numpy-2.2.3-cp312-cp312-manylinux_2_17_x86_64.manylinux2014_x86_64.whl (16.1 MB)\n",
      "\u001b[2K   \u001b[90m━━━━━━━━━━━━━━━━━━━━━━━━━━━━━━━━━━━━━━━━\u001b[0m \u001b[32m16.1/16.1 MB\u001b[0m \u001b[31m36.9 MB/s\u001b[0m eta \u001b[36m0:00:00\u001b[0m00:01\u001b[0m00:01\u001b[0m\n",
      "\u001b[?25hDownloading scipy-1.15.2-cp312-cp312-manylinux_2_17_x86_64.manylinux2014_x86_64.whl (37.3 MB)\n",
      "\u001b[2K   \u001b[90m━━━━━━━━━━━━━━━━━━━━━━━━━━━━━━━━━━━━━━━━\u001b[0m \u001b[32m37.3/37.3 MB\u001b[0m \u001b[31m38.4 MB/s\u001b[0m eta \u001b[36m0:00:00\u001b[0m00:01\u001b[0m00:01\u001b[0m\n",
      "\u001b[?25hInstalling collected packages: numpy, scipy\n",
      "\u001b[31mERROR: Could not install packages due to an OSError: [Errno 122] Przekroczony limit dyskowy\n",
      "\u001b[0m\u001b[31m\n",
      "\u001b[0mThe 0.9 quantile for N(2, 0.3) is: 2.3845\n",
      "The 0.15 quantile for N(100, 6) is: 93.7814\n",
      "\n",
      "Using manual z-scores:\n",
      "The 0.9 quantile for N(2, 0.3) is: 2.3840\n",
      "The 0.15 quantile for N(100, 6) is: 93.7600\n"
     ]
    }
   ],
   "source": [
    "import numpy as np\n",
    "from scipy import stats\n",
    "\n",
    "def calculate_normal_quantile(mu, sigma, p):\n",
    "    \"\"\"\n",
    "    Calculate the quantile for a normal distribution N(mu, sigma).\n",
    "    \n",
    "    Parameters:\n",
    "    mu (float): Mean of the normal distribution\n",
    "    sigma (float): Standard deviation of the normal distribution\n",
    "    p (float): Probability level (between 0 and 1)\n",
    "    \n",
    "    Returns:\n",
    "    float: The value x such that P(X ≤ x) = p for X ~ N(mu, sigma)\n",
    "    \"\"\"\n",
    "    # Get the z-score for the probability p from the standard normal distribution\n",
    "    z_score = stats.norm.ppf(p)\n",
    "    \n",
    "    # Calculate the quantile for the N(mu, sigma) distribution\n",
    "    quantile = mu + z_score * sigma\n",
    "    \n",
    "    return quantile\n",
    "\n",
    "# Calculate the 0.9 quantile for N(2, 0.3)\n",
    "q_90_dist1 = calculate_normal_quantile(2, 0.3, 0.9)\n",
    "\n",
    "# Calculate the 0.15 quantile for N(100, 6)\n",
    "q_15_dist2 = calculate_normal_quantile(100, 6, 0.15)\n",
    "\n",
    "# Print the results\n",
    "print(f\"The 0.9 quantile for N(2, 0.3) is: {q_90_dist1:.4f}\")\n",
    "print(f\"The 0.15 quantile for N(100, 6) is: {q_15_dist2:.4f}\")\n",
    "\n",
    "# Let's also show how to calculate these manually (without using scipy)\n",
    "def calculate_normal_quantile_manual(mu, sigma, p):\n",
    "    \"\"\"\n",
    "    Manually calculate the quantile for a normal distribution using predefined z-scores.\n",
    "    This is less accurate but demonstrates the concept.\n",
    "    \"\"\"\n",
    "    # Define common z-scores (for educational purposes)\n",
    "    z_scores = {\n",
    "        0.01: -2.33, 0.05: -1.645, 0.1: -1.28, 0.15: -1.04, 0.2: -0.84,\n",
    "        0.25: -0.67, 0.3: -0.52, 0.35: -0.39, 0.4: -0.25, 0.45: -0.13,\n",
    "        0.5: 0, \n",
    "        0.55: 0.13, 0.6: 0.25, 0.65: 0.39, 0.7: 0.52, 0.75: 0.67,\n",
    "        0.8: 0.84, 0.85: 1.04, 0.9: 1.28, 0.95: 1.645, 0.99: 2.33\n",
    "    }\n",
    "    \n",
    "    if p in z_scores:\n",
    "        z = z_scores[p]\n",
    "        return mu + z * sigma\n",
    "    else:\n",
    "        return \"Probability not in predefined z-scores table\"\n",
    "\n",
    "# Calculate using the manual method\n",
    "manual_q_90_dist1 = calculate_normal_quantile_manual(2, 0.3, 0.9)\n",
    "manual_q_15_dist2 = calculate_normal_quantile_manual(100, 6, 0.15)\n",
    "\n",
    "print(f\"\\nUsing manual z-scores:\")\n",
    "print(f\"The 0.9 quantile for N(2, 0.3) is: {manual_q_90_dist1:.4f}\")\n",
    "print(f\"The 0.15 quantile for N(100, 6) is: {manual_q_15_dist2:.4f}\")"
   ]
  },
  {
   "cell_type": "markdown",
   "metadata": {},
   "source": [
    "![zad5.png](images/note1/zad5.png)"
   ]
  },
  {
   "cell_type": "code",
   "execution_count": null,
   "metadata": {},
   "outputs": [],
   "source": []
  },
  {
   "cell_type": "markdown",
   "metadata": {},
   "source": [
    "![zad6.png](images/note1/zad6.png)"
   ]
  },
  {
   "cell_type": "code",
   "execution_count": null,
   "metadata": {},
   "outputs": [],
   "source": []
  },
  {
   "cell_type": "markdown",
   "metadata": {},
   "source": [
    "![zad7.png](images/note1/zad7.png)"
   ]
  },
  {
   "cell_type": "code",
   "execution_count": null,
   "metadata": {},
   "outputs": [],
   "source": []
  },
  {
   "cell_type": "markdown",
   "metadata": {},
   "source": [
    "![zad8.png](images/note1/zad8.png)"
   ]
  },
  {
   "cell_type": "code",
   "execution_count": null,
   "metadata": {},
   "outputs": [],
   "source": []
  }
 ],
 "metadata": {
  "kernelspec": {
   "display_name": "Python 3",
   "language": "python",
   "name": "python3"
  },
  "language_info": {
   "codemirror_mode": {
    "name": "ipython",
    "version": 3
   },
   "file_extension": ".py",
   "mimetype": "text/x-python",
   "name": "python",
   "nbconvert_exporter": "python",
   "pygments_lexer": "ipython3",
   "version": "3.12.6"
  }
 },
 "nbformat": 4,
 "nbformat_minor": 2
}
