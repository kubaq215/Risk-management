{
 "cells": [
  {
   "cell_type": "markdown",
   "metadata": {},
   "source": [
    "![zad1.png](images/note3/zad1.png)"
   ]
  },
  {
   "cell_type": "code",
   "execution_count": 1,
   "metadata": {
    "ExecuteTime": {
     "end_time": "2025-04-03T13:04:17.637558Z",
     "start_time": "2025-04-03T13:04:17.628055Z"
    }
   },
   "outputs": [],
   "source": [
    "# Zadanie w pdfie (images/note3/solutions)"
   ]
  }
 ],
 "metadata": {
  "kernelspec": {
   "display_name": "Python 3",
   "language": "python",
   "name": "python3"
  },
  "language_info": {
   "codemirror_mode": {
    "name": "ipython",
    "version": 3
   },
   "file_extension": ".py",
   "mimetype": "text/x-python",
   "name": "python",
   "nbconvert_exporter": "python",
   "pygments_lexer": "ipython3",
   "version": "3.9.6"
  }
 },
 "nbformat": 4,
 "nbformat_minor": 2
}
