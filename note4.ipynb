{
 "cells": [
  {
   "cell_type": "markdown",
   "id": "72c2014e",
   "metadata": {},
   "source": [
    "![zad1.png](images/note4/zad1.png)"
   ]
  },
  {
   "cell_type": "code",
   "execution_count": null,
   "id": "8f73deff",
   "metadata": {
    "vscode": {
     "languageId": "plaintext"
    }
   },
   "outputs": [],
   "source": []
  },
  {
   "cell_type": "markdown",
   "id": "c59b13e9",
   "metadata": {},
   "source": [
    "![zad2.png](images/note4/zad2.png)"
   ]
  },
  {
   "cell_type": "code",
   "execution_count": null,
   "id": "24b29698",
   "metadata": {
    "vscode": {
     "languageId": "plaintext"
    }
   },
   "outputs": [],
   "source": []
  },
  {
   "cell_type": "markdown",
   "id": "025e80c1",
   "metadata": {},
   "source": [
    "![zad32.png](images/note4/zad31.png)  \n",
    "![zad31.png](images/note4/zad32.png)"
   ]
  },
  {
   "cell_type": "code",
   "execution_count": null,
   "id": "64377567",
   "metadata": {
    "vscode": {
     "languageId": "plaintext"
    }
   },
   "outputs": [],
   "source": []
  },
  {
   "cell_type": "markdown",
   "id": "47832b2d",
   "metadata": {},
   "source": [
    "![zad41.png](images/note4/zad41.png)  \n",
    "![zad42.png](images/note4/zad42.png)"
   ]
  },
  {
   "cell_type": "code",
   "execution_count": null,
   "id": "e69cdd75",
   "metadata": {
    "vscode": {
     "languageId": "plaintext"
    }
   },
   "outputs": [],
   "source": []
  }
 ],
 "metadata": {
  "language_info": {
   "name": "python"
  }
 },
 "nbformat": 4,
 "nbformat_minor": 5
}
